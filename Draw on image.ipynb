{
 "cells": [
  {
   "cell_type": "code",
   "execution_count": 1,
   "id": "735852bb",
   "metadata": {},
   "outputs": [],
   "source": [
    "import numpy as np\n",
    "import pandas as pd\n",
    "import cv2\n",
    "import matplotlib.pyplot as plt\n",
    "import PIL.Image\n",
    "from tkinter import *\n",
    "from PIL import ImageTk, Image\n",
    "# from StringIO import StringIO"
   ]
  },
  {
   "cell_type": "code",
   "execution_count": 2,
   "id": "dd1cfa67",
   "metadata": {},
   "outputs": [],
   "source": [
    "img1 = cv2.imread('cropped_image1.jpeg')\n",
    "img2 = cv2.imread('cropped_image2.jpeg')\n",
    "\n",
    "# img1 = cv2.resize(img1,(1000,600))\n",
    "# img2 = cv2.resize(img2,(1000,600))"
   ]
  },
  {
   "cell_type": "code",
   "execution_count": 3,
   "id": "a7979188",
   "metadata": {},
   "outputs": [
    {
     "data": {
      "text/plain": [
       "(564, 828, 3)"
      ]
     },
     "execution_count": 3,
     "metadata": {},
     "output_type": "execute_result"
    }
   ],
   "source": [
    "img2.shape"
   ]
  },
  {
   "cell_type": "code",
   "execution_count": 4,
   "id": "621700d5",
   "metadata": {},
   "outputs": [],
   "source": [
    "# cv2.imshow(\"image\",img2)\n",
    "# cv2.waitKey(0)\n",
    "# cv2.destroyAllWindows()"
   ]
  },
  {
   "cell_type": "code",
   "execution_count": 5,
   "id": "8202861f",
   "metadata": {},
   "outputs": [],
   "source": [
    "def get_x_and_y(event):\n",
    "    global lasx, lasy\n",
    "    lasx, lasy = event.x, event.y\n",
    "\n",
    "def draw_smth(event):\n",
    "    global lasx, lasy\n",
    "    canvas.create_line((lasx, lasy, event.x, event.y), \n",
    "                      fill='lightgreen', \n",
    "                      width=8)\n",
    "    lasx, lasy = event.x, event.y"
   ]
  },
  {
   "cell_type": "code",
   "execution_count": 6,
   "id": "43e3a606",
   "metadata": {},
   "outputs": [],
   "source": [
    "from tkinter import *\n",
    "app = Tk()\n",
    "app.geometry(\"810x560\")\n",
    "canvas = Canvas(app, bg='black')\n",
    "canvas.pack(anchor='nw', fill='both', expand=1)\n",
    "from tkinter import *\n",
    "canvas.bind(\"<Button-1>\", get_x_and_y)\n",
    "canvas.bind(\"<B1-Motion>\", draw_smth)\n",
    "image = PIL.Image.open(\"cropped_image2.jpeg\")\n",
    "image = ImageTk.PhotoImage(image)\n",
    "canvas.create_image(0,0, image=image, anchor='nw')\n",
    "\n",
    "app.mainloop()"
   ]
  },
  {
   "cell_type": "code",
   "execution_count": null,
   "id": "f0d7dd37",
   "metadata": {
    "scrolled": true
   },
   "outputs": [],
   "source": []
  },
  {
   "cell_type": "code",
   "execution_count": null,
   "id": "b32a4204",
   "metadata": {},
   "outputs": [],
   "source": []
  },
  {
   "cell_type": "code",
   "execution_count": null,
   "id": "ec5eb523",
   "metadata": {},
   "outputs": [],
   "source": []
  },
  {
   "cell_type": "code",
   "execution_count": null,
   "id": "c50e66b4",
   "metadata": {},
   "outputs": [],
   "source": []
  },
  {
   "cell_type": "code",
   "execution_count": null,
   "id": "15712615",
   "metadata": {},
   "outputs": [],
   "source": []
  }
 ],
 "metadata": {
  "kernelspec": {
   "display_name": "Python 3 (ipykernel)",
   "language": "python",
   "name": "python3"
  },
  "language_info": {
   "codemirror_mode": {
    "name": "ipython",
    "version": 3
   },
   "file_extension": ".py",
   "mimetype": "text/x-python",
   "name": "python",
   "nbconvert_exporter": "python",
   "pygments_lexer": "ipython3",
   "version": "3.9.12"
  }
 },
 "nbformat": 4,
 "nbformat_minor": 5
}
